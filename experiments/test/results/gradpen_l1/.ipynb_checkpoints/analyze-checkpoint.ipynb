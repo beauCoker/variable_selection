{
 "cells": [
  {
   "cell_type": "code",
   "execution_count": 1,
   "metadata": {},
   "outputs": [],
   "source": [
    "import numpy as np\n",
    "import matplotlib.pyplot as plt\n",
    "import pandas as pd\n",
    "import seaborn as sns"
   ]
  },
  {
   "cell_type": "code",
   "execution_count": 2,
   "metadata": {},
   "outputs": [],
   "source": [
    "res = pd.read_pickle('aggregate_results.pkl')"
   ]
  },
  {
   "cell_type": "code",
   "execution_count": 3,
   "metadata": {},
   "outputs": [
    {
     "data": {
      "text/plain": [
       "--model                object\n",
       "--dataset              object\n",
       "--dim_in               object\n",
       "--n_obs                object\n",
       "--sig2                 object\n",
       "--n_burnin_hmc         object\n",
       "--n_sample_hmc         object\n",
       "--scale_global         object\n",
       "--penalty_type         object\n",
       "--n_rff                object\n",
       "--lengthscale          object\n",
       "--prior_w2_sig2        object\n",
       "--dir_out              object\n",
       "psi_mean_test          object\n",
       "psi_mean_train         object\n",
       "psi_test_true          object\n",
       "psi_train_true         object\n",
       "psi_var_test           object\n",
       "psi_var_train          object\n",
       "rmse                  float64\n",
       "rmse_test             float64\n",
       "runtime_experiment    float64\n",
       "runtime_train         float64\n",
       "dtype: object"
      ]
     },
     "execution_count": 3,
     "metadata": {},
     "output_type": "execute_result"
    }
   ],
   "source": [
    "res.dtypes"
   ]
  },
  {
   "cell_type": "code",
   "execution_count": 4,
   "metadata": {},
   "outputs": [],
   "source": [
    "res = res.astype({'--n_obs': 'int', \n",
    "                  '--dim_in': 'int',\n",
    "                  '--sig2': 'float',\n",
    "                 })"
   ]
  },
  {
   "cell_type": "code",
   "execution_count": 5,
   "metadata": {},
   "outputs": [
    {
     "data": {
      "text/html": [
       "<div>\n",
       "<style scoped>\n",
       "    .dataframe tbody tr th:only-of-type {\n",
       "        vertical-align: middle;\n",
       "    }\n",
       "\n",
       "    .dataframe tbody tr th {\n",
       "        vertical-align: top;\n",
       "    }\n",
       "\n",
       "    .dataframe thead th {\n",
       "        text-align: right;\n",
       "    }\n",
       "</style>\n",
       "<table border=\"1\" class=\"dataframe\">\n",
       "  <thead>\n",
       "    <tr style=\"text-align: right;\">\n",
       "      <th></th>\n",
       "      <th>--model</th>\n",
       "      <th>--dataset</th>\n",
       "      <th>--dim_in</th>\n",
       "      <th>--n_obs</th>\n",
       "      <th>--sig2</th>\n",
       "      <th>--n_burnin_hmc</th>\n",
       "      <th>--n_sample_hmc</th>\n",
       "      <th>--scale_global</th>\n",
       "      <th>--penalty_type</th>\n",
       "      <th>--n_rff</th>\n",
       "      <th>...</th>\n",
       "      <th>psi_mean_test</th>\n",
       "      <th>psi_mean_train</th>\n",
       "      <th>psi_test_true</th>\n",
       "      <th>psi_train_true</th>\n",
       "      <th>psi_var_test</th>\n",
       "      <th>psi_var_train</th>\n",
       "      <th>rmse</th>\n",
       "      <th>rmse_test</th>\n",
       "      <th>runtime_experiment</th>\n",
       "      <th>runtime_train</th>\n",
       "    </tr>\n",
       "  </thead>\n",
       "  <tbody>\n",
       "    <tr>\n",
       "      <th>0</th>\n",
       "      <td>RFFGRADPEN</td>\n",
       "      <td>mixselect2</td>\n",
       "      <td>4</td>\n",
       "      <td>50</td>\n",
       "      <td>0.01</td>\n",
       "      <td>1000</td>\n",
       "      <td>1000</td>\n",
       "      <td>1</td>\n",
       "      <td>l1</td>\n",
       "      <td>500</td>\n",
       "      <td>...</td>\n",
       "      <td>[2.650425529796813, 2.2327851400390077, 2.4786...</td>\n",
       "      <td>[2.500962153393177, 2.339147288019192, 1.83662...</td>\n",
       "      <td>[0.6250606047702814, 0.5302861843994272, 0.334...</td>\n",
       "      <td>[0.6250606047702797, 0.5302861843994258, 0.334...</td>\n",
       "      <td>[0.08683465420665881, 0.28625243452731447, 0.6...</td>\n",
       "      <td>[0.060415331102862395, 0.08250921433048188, 0....</td>\n",
       "      <td>0.009407</td>\n",
       "      <td>0.996644</td>\n",
       "      <td>24.100290</td>\n",
       "      <td>13.338083</td>\n",
       "    </tr>\n",
       "    <tr>\n",
       "      <th>1</th>\n",
       "      <td>RFFGRADPEN</td>\n",
       "      <td>mixselect2</td>\n",
       "      <td>4</td>\n",
       "      <td>50</td>\n",
       "      <td>0.01</td>\n",
       "      <td>1000</td>\n",
       "      <td>1000</td>\n",
       "      <td>1</td>\n",
       "      <td>l1</td>\n",
       "      <td>500</td>\n",
       "      <td>...</td>\n",
       "      <td>[0.6106924512833094, 0.5116982092401837, 0.331...</td>\n",
       "      <td>[0.6174416819857884, 0.5248927937528436, 0.350...</td>\n",
       "      <td>[0.6250606047702814, 0.5302861843994272, 0.334...</td>\n",
       "      <td>[0.6250606047702797, 0.5302861843994258, 0.334...</td>\n",
       "      <td>[0.00042174596822898457, 0.0002691572054913005...</td>\n",
       "      <td>[0.00033888322707264536, 0.0001929884582555653...</td>\n",
       "      <td>0.069477</td>\n",
       "      <td>0.114087</td>\n",
       "      <td>24.041875</td>\n",
       "      <td>13.110794</td>\n",
       "    </tr>\n",
       "  </tbody>\n",
       "</table>\n",
       "<p>2 rows × 23 columns</p>\n",
       "</div>"
      ],
      "text/plain": [
       "      --model   --dataset  --dim_in  --n_obs  --sig2 --n_burnin_hmc  \\\n",
       "0  RFFGRADPEN  mixselect2         4       50    0.01           1000   \n",
       "1  RFFGRADPEN  mixselect2         4       50    0.01           1000   \n",
       "\n",
       "  --n_sample_hmc --scale_global --penalty_type --n_rff  ...  \\\n",
       "0           1000              1             l1     500  ...   \n",
       "1           1000              1             l1     500  ...   \n",
       "\n",
       "                                       psi_mean_test  \\\n",
       "0  [2.650425529796813, 2.2327851400390077, 2.4786...   \n",
       "1  [0.6106924512833094, 0.5116982092401837, 0.331...   \n",
       "\n",
       "                                      psi_mean_train  \\\n",
       "0  [2.500962153393177, 2.339147288019192, 1.83662...   \n",
       "1  [0.6174416819857884, 0.5248927937528436, 0.350...   \n",
       "\n",
       "                                       psi_test_true  \\\n",
       "0  [0.6250606047702814, 0.5302861843994272, 0.334...   \n",
       "1  [0.6250606047702814, 0.5302861843994272, 0.334...   \n",
       "\n",
       "                                      psi_train_true  \\\n",
       "0  [0.6250606047702797, 0.5302861843994258, 0.334...   \n",
       "1  [0.6250606047702797, 0.5302861843994258, 0.334...   \n",
       "\n",
       "                                        psi_var_test  \\\n",
       "0  [0.08683465420665881, 0.28625243452731447, 0.6...   \n",
       "1  [0.00042174596822898457, 0.0002691572054913005...   \n",
       "\n",
       "                                       psi_var_train      rmse rmse_test  \\\n",
       "0  [0.060415331102862395, 0.08250921433048188, 0....  0.009407  0.996644   \n",
       "1  [0.00033888322707264536, 0.0001929884582555653...  0.069477  0.114087   \n",
       "\n",
       "  runtime_experiment  runtime_train  \n",
       "0          24.100290      13.338083  \n",
       "1          24.041875      13.110794  \n",
       "\n",
       "[2 rows x 23 columns]"
      ]
     },
     "execution_count": 5,
     "metadata": {},
     "output_type": "execute_result"
    }
   ],
   "source": [
    "res"
   ]
  },
  {
   "cell_type": "code",
   "execution_count": 5,
   "metadata": {},
   "outputs": [],
   "source": [
    "#res.convert_dtypes().dtypes"
   ]
  },
  {
   "cell_type": "markdown",
   "metadata": {},
   "source": [
    "### Runtime"
   ]
  },
  {
   "cell_type": "code",
   "execution_count": 7,
   "metadata": {},
   "outputs": [
    {
     "data": {
      "text/plain": [
       "Text(0.5, 1.0, 'Model: ')"
      ]
     },
     "execution_count": 7,
     "metadata": {},
     "output_type": "execute_result"
    },
    {
     "data": {
      "image/png": "[encoded data removed]",
      "text/plain": [
       "<Figure size 432x288 with 1 Axes>"
      ]
     },
     "metadata": {
      "needs_background": "light"
     },
     "output_type": "display_data"
    }
   ],
   "source": [
    "ax = sns.lineplot(x=\"--lengthscale\", y=\"runtime_train\", marker='o', data=res)\n",
    "ax.set_title('Model: RFF with l1 grad penalty')"
   ]
  },
  {
   "cell_type": "markdown",
   "metadata": {},
   "source": [
    "### Test RMSE"
   ]
  },
  {
   "cell_type": "code",
   "execution_count": 9,
   "metadata": {},
   "outputs": [
    {
     "data": {
      "text/plain": [
       "Text(0.5, 1.0, 'Model: RFF with l1 grad penalty')"
      ]
     },
     "execution_count": 9,
     "metadata": {},
     "output_type": "execute_result"
    },
    {
     "data": {
      "image/png": "[encoded data removed]",
      "text/plain": [
       "<Figure size 432x288 with 1 Axes>"
      ]
     },
     "metadata": {
      "needs_background": "light"
     },
     "output_type": "display_data"
    }
   ],
   "source": [
    "ax = sns.lineplot(x=\"--lengthscale\", y=\"rmse_test\", marker='o', data=res)\n",
    "ax.set_ylim(0,1.5)\n",
    "ax.set_title('Model: RFF with l1 grad penalty')"
   ]
  },
  {
   "cell_type": "code",
   "execution_count": null,
   "metadata": {},
   "outputs": [],
   "source": []
  }
 ],
 "metadata": {
  "kernelspec": {
   "display_name": "Python 3",
   "language": "python",
   "name": "python3"
  },
  "language_info": {
   "codemirror_mode": {
    "name": "ipython",
    "version": 3
   },
   "file_extension": ".py",
   "mimetype": "text/x-python",
   "name": "python",
   "nbconvert_exporter": "python",
   "pygments_lexer": "ipython3",
   "version": "3.7.3"
  }
 },
 "nbformat": 4,
 "nbformat_minor": 2
}
